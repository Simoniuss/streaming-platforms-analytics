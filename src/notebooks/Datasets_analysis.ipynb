{
 "cells": [
  {
   "cell_type": "code",
   "execution_count": null,
   "id": "92697df7",
   "metadata": {},
   "outputs": [],
   "source": [
    "from dotenv import load_dotenv\n",
    "import os\n",
    "import time\n",
    "import datetime\n",
    "import json\n",
    "import requests\n",
    "from requests.utils import quote\n",
    "from tqdm.notebook import tqdm\n",
    "import pandas as pd\n",
    "import numpy as np\n",
    "import matplotlib.pyplot as plt\n",
    "import seaborn as sns"
   ]
  },
  {
   "cell_type": "code",
   "execution_count": null,
   "id": "1996975e",
   "metadata": {},
   "outputs": [],
   "source": [
    "load_dotenv('.env')\n",
    "OMDB_KEY = os.environ.get(\"OMDB_API_KEY\")\n",
    "omdb = 'http://www.omdbapi.com/?apikey={}&t='.format(OMDB_KEY)"
   ]
  },
  {
   "cell_type": "markdown",
   "id": "92e675b2",
   "metadata": {},
   "source": [
    "# 1. Netflix"
   ]
  },
  {
   "cell_type": "code",
   "execution_count": null,
   "id": "44c4aad3",
   "metadata": {},
   "outputs": [],
   "source": [
    "netflix = pd.read_csv('../../data/netflix_titles.csv', sep=',', header=0)\n",
    "netflix.drop(columns=['show_id', 'date_added', 'description'], inplace=True)\n",
    "netflix.rename(columns={'type': 'Type', 'title': 'Title', 'director': 'Director', 'cast': 'Actors',\n",
    "                  'country': 'Country', 'release_year': 'Release', 'rating': 'Rating',\n",
    "                  'duration': 'Runtime', 'listed_in': 'Genre'}, inplace=True)\n",
    "netflix = netflix.reindex(columns=['Type', 'Title', 'Director', 'Actors', 'Country', 'Release', 'Rating', \n",
    "                                   'Runtime', 'Genre', 'Language', 'IMDb', 'RottenTomatoes', 'Metacritic'])\n",
    "netflix = netflix[['Title', 'Type', 'Director', 'Actors', 'Release', 'Genre', 'Runtime', 'Language', \n",
    "                   'Country', 'Rating', 'IMDb', 'RottenTomatoes', 'Metacritic']]"
   ]
  },
  {
   "cell_type": "code",
   "execution_count": null,
   "id": "15f7d670",
   "metadata": {},
   "outputs": [],
   "source": [
    "netflix.head()"
   ]
  },
  {
   "cell_type": "code",
   "execution_count": null,
   "id": "cc55984b",
   "metadata": {
    "scrolled": true
   },
   "outputs": [],
   "source": [
    "netflix.info()"
   ]
  },
  {
   "cell_type": "code",
   "execution_count": null,
   "id": "f102279c",
   "metadata": {},
   "outputs": [],
   "source": [
    "netflix.iloc[1]['Actors']"
   ]
  },
  {
   "cell_type": "code",
   "execution_count": null,
   "id": "24b7c1c9",
   "metadata": {
    "scrolled": true
   },
   "outputs": [],
   "source": [
    "listRes = list(netflix.iloc[1]['Actors'].split(\", \"))\n",
    "listRes"
   ]
  },
  {
   "cell_type": "code",
   "execution_count": null,
   "id": "80c2d661",
   "metadata": {},
   "outputs": [],
   "source": [
    "def extract_json_data(info, index, dataset):\n",
    "    if info['Response']=='True':\n",
    "        #['Title', 'Type', 'Director', 'Actors', 'Release', 'Genre', 'Runtime', 'Language', \n",
    "        # 'Country', 'Rating', 'IMDb', 'RottenTomatoes', 'Metacritic']\n",
    "        row = []\n",
    "        imdb = 'NaN'\n",
    "        rotten = 'NaN'\n",
    "        meta = 'NaN'\n",
    "        row.append(info['Title'])\n",
    "        row.append(info['Type'])\n",
    "        row.append(info['Director'])\n",
    "        row.append(info['Actors'])\n",
    "        row.append(info['Released'])\n",
    "        row.append(info['Genre'])\n",
    "        if info['Type']=='movie':\n",
    "            row.append(info['Runtime'])\n",
    "        else:\n",
    "            row.append(info['totalSeasons']+' seasons')\n",
    "        row.append(info['Language'])\n",
    "        row.append(info['Country'])\n",
    "        row.append(info['Rated'])\n",
    "        for rate in info['Ratings']:\n",
    "            if rate['Source']=='Internet Movie Database':\n",
    "                imdb = rate['Value']\n",
    "            elif rate['Source']=='Rotten Tomatoes':\n",
    "                rotten = rate['Value']\n",
    "            elif rate['Source']=='Metacritic':\n",
    "                meta = rate['Value']\n",
    "        row.append(imdb)\n",
    "        row.append(rotten)\n",
    "        row.append(meta)\n",
    "        dataset.loc[index] = row    "
   ]
  },
  {
   "cell_type": "code",
   "execution_count": null,
   "id": "78a56264",
   "metadata": {},
   "outputs": [],
   "source": [
    "r = requests.get(omdb+quote(netflix.iloc[1]['Title']))"
   ]
  },
  {
   "cell_type": "code",
   "execution_count": null,
   "id": "f4b6fc1d",
   "metadata": {},
   "outputs": [],
   "source": [
    "jsonRes = r.json()"
   ]
  },
  {
   "cell_type": "code",
   "execution_count": null,
   "id": "d4498176",
   "metadata": {},
   "outputs": [],
   "source": [
    "jsonRes"
   ]
  },
  {
   "cell_type": "code",
   "execution_count": null,
   "id": "cfc932bd",
   "metadata": {},
   "outputs": [],
   "source": [
    "for index, row in tqdm(netflix.iterrows(), total=netflix.shape[0]):\n",
    "    r = requests.get(omdb+quote(netflix.iloc[index]['Title']))\n",
    "    extract_json_data(r.json(), index, netflix)"
   ]
  },
  {
   "cell_type": "code",
   "execution_count": null,
   "id": "7081dbee",
   "metadata": {
    "scrolled": true
   },
   "outputs": [],
   "source": [
    "netflix.info()"
   ]
  },
  {
   "cell_type": "code",
   "execution_count": null,
   "id": "e640b03c",
   "metadata": {},
   "outputs": [],
   "source": [
    "netflix['Type'].unique()"
   ]
  },
  {
   "cell_type": "code",
   "execution_count": null,
   "id": "64548fd9",
   "metadata": {
    "scrolled": true
   },
   "outputs": [],
   "source": [
    "netflix[netflix['Actors'].isnull()]"
   ]
  },
  {
   "cell_type": "code",
   "execution_count": null,
   "id": "881babe2",
   "metadata": {},
   "outputs": [],
   "source": [
    "netflix.drop(netflix[netflix.isnull().sum(axis=1)>=6].index, inplace=True)"
   ]
  },
  {
   "cell_type": "code",
   "execution_count": null,
   "id": "e08bb7ac",
   "metadata": {},
   "outputs": [],
   "source": [
    "netflix.replace('N/A', np.NaN, inplace=True)\n",
    "netflix.replace('N/A seasons', np.NaN, inplace=True)\n",
    "netflix.replace('NaN', np.NaN, inplace=True)"
   ]
  },
  {
   "cell_type": "code",
   "execution_count": null,
   "id": "06c6290a",
   "metadata": {},
   "outputs": [],
   "source": [
    "netflix['Actors'] = netflix['Actors'].apply(lambda x: np.NaN if pd.isnull(x) else list(x.split(\", \")))\n",
    "netflix['Genre'] = netflix['Genre'].apply(lambda x: np.NaN if pd.isnull(x) else list(x.split(\", \")))\n",
    "netflix['Language'] = netflix['Language'].apply(lambda x: np.NaN if pd.isnull(x) else list(x.split(\", \")))\n",
    "netflix['Country'] = netflix['Country'].apply(lambda x: np.NaN if pd.isnull(x) else list(x.split(\", \")))"
   ]
  },
  {
   "cell_type": "code",
   "execution_count": null,
   "id": "ce1d9698",
   "metadata": {},
   "outputs": [],
   "source": [
    "netflix['Actors'] = netflix['Actors'].apply(lambda x: np.NaN if isinstance(x, float) else x[0] if len(x)==1 else x)\n",
    "netflix['Genre'] = netflix['Genre'].apply(lambda x: np.NaN if isinstance(x, float) else x[0] if len(x)==1 else x)\n",
    "netflix['Language'] = netflix['Language'].apply(lambda x: np.NaN if isinstance(x, float) else x[0] if len(x)==1 else x)\n",
    "netflix['Country'] = netflix['Country'].apply(lambda x: np.NaN if isinstance(x, float) else x[0] if len(x)==1 else x)"
   ]
  },
  {
   "cell_type": "code",
   "execution_count": null,
   "id": "79c8242c",
   "metadata": {},
   "outputs": [],
   "source": [
    "netflix['IMDb'] = netflix['IMDb'].apply(lambda x: np.NaN if pd.isnull(x) else x.replace('/10', ''))\n",
    "netflix['RottenTomatoes'] = netflix['RottenTomatoes'].apply(lambda x: np.NaN if pd.isnull(x) else x.replace('%', ''))\n",
    "netflix['Metacritic'] = netflix['Metacritic'].apply(lambda x: np.NaN if pd.isnull(x) else x.replace('/100', ''))"
   ]
  },
  {
   "cell_type": "code",
   "execution_count": null,
   "id": "f017b129",
   "metadata": {},
   "outputs": [],
   "source": [
    "netflix['Runtime'] = netflix['Runtime'].apply(lambda x: np.NaN if pd.isnull(x) else x.replace(' min', ''))\n",
    "netflix['Runtime'] = netflix['Runtime'].apply(lambda x: np.NaN if pd.isnull(x) else x.replace(' seasons', ''))\n",
    "netflix['Runtime'] = netflix['Runtime'].apply(lambda x: np.NaN if pd.isnull(x) else x.replace(' Seasons', ''))"
   ]
  },
  {
   "cell_type": "code",
   "execution_count": null,
   "id": "c88aba47",
   "metadata": {},
   "outputs": [],
   "source": [
    "netflix['Type'] = netflix['Type'].apply(lambda x: x.replace('movie', 'Movie'))\n",
    "netflix['Type'] = netflix['Type'].apply(lambda x: x.replace('series', 'TV Show'))"
   ]
  },
  {
   "cell_type": "code",
   "execution_count": null,
   "id": "743f20d5",
   "metadata": {},
   "outputs": [],
   "source": [
    "netflix.reset_index(drop=True, inplace=True)"
   ]
  },
  {
   "cell_type": "code",
   "execution_count": null,
   "id": "9a91a8af",
   "metadata": {},
   "outputs": [],
   "source": [
    "netflix.head()"
   ]
  },
  {
   "cell_type": "code",
   "execution_count": null,
   "id": "299a9653",
   "metadata": {},
   "outputs": [],
   "source": [
    "netflix.info()"
   ]
  },
  {
   "cell_type": "code",
   "execution_count": null,
   "id": "af8e30d4",
   "metadata": {},
   "outputs": [],
   "source": [
    "#netflix.to_csv('../../data/netflix.csv')"
   ]
  },
  {
   "cell_type": "markdown",
   "id": "19376893",
   "metadata": {},
   "source": [
    "# 2. Prime Video"
   ]
  },
  {
   "cell_type": "code",
   "execution_count": null,
   "id": "be79dfe9",
   "metadata": {},
   "outputs": [],
   "source": [
    "prime = pd.read_csv('../../data/amazon_prime_titles.csv', sep=',', header=0)\n",
    "prime.drop(columns=['show_id', 'date_added', 'description'], inplace=True)\n",
    "prime.rename(columns={'type': 'Type', 'title': 'Title', 'director': 'Director', 'cast': 'Actors',\n",
    "                  'country': 'Country', 'release_year': 'Release', 'rating': 'Rating',\n",
    "                  'duration': 'Runtime', 'listed_in': 'Genre'}, inplace=True)\n",
    "prime = prime.reindex(columns=['Type', 'Title', 'Director', 'Actors', 'Country', 'Release', 'Rating', \n",
    "                                   'Runtime', 'Genre', 'Language', 'IMDb', 'RottenTomatoes', 'Metacritic'])\n",
    "prime = prime[['Title', 'Type', 'Director', 'Actors', 'Release', 'Genre', 'Runtime', 'Language', \n",
    "                   'Country', 'Rating', 'IMDb', 'RottenTomatoes', 'Metacritic']]"
   ]
  },
  {
   "cell_type": "code",
   "execution_count": null,
   "id": "372ec14e",
   "metadata": {},
   "outputs": [],
   "source": [
    "prime.head()"
   ]
  },
  {
   "cell_type": "code",
   "execution_count": null,
   "id": "36ea75cb",
   "metadata": {
    "scrolled": true
   },
   "outputs": [],
   "source": [
    "prime.info()"
   ]
  },
  {
   "cell_type": "code",
   "execution_count": null,
   "id": "82a6685d",
   "metadata": {},
   "outputs": [],
   "source": [
    "for index, row in tqdm(prime.iterrows(), total=prime.shape[0]):\n",
    "    r = requests.get(omdb+quote(prime.iloc[index]['Title']))\n",
    "    extract_json_data(r.json(), index, prime)"
   ]
  },
  {
   "cell_type": "code",
   "execution_count": null,
   "id": "ab1005bd",
   "metadata": {
    "scrolled": false
   },
   "outputs": [],
   "source": [
    "prime.info()"
   ]
  },
  {
   "cell_type": "code",
   "execution_count": null,
   "id": "f366e94a",
   "metadata": {},
   "outputs": [],
   "source": [
    "prime.head()"
   ]
  },
  {
   "cell_type": "code",
   "execution_count": null,
   "id": "06c27420",
   "metadata": {},
   "outputs": [],
   "source": [
    "#prime.to_csv('./prime.csv')"
   ]
  },
  {
   "cell_type": "code",
   "execution_count": null,
   "id": "9c8b2688",
   "metadata": {},
   "outputs": [],
   "source": [
    "prime['Type'].unique()"
   ]
  },
  {
   "cell_type": "code",
   "execution_count": null,
   "id": "1334bc6b",
   "metadata": {
    "scrolled": false
   },
   "outputs": [],
   "source": [
    "prime[prime['Actors'].isnull()]"
   ]
  },
  {
   "cell_type": "code",
   "execution_count": null,
   "id": "62ec16ec",
   "metadata": {},
   "outputs": [],
   "source": [
    "prime[prime.isnull().sum(axis=1)>=7]"
   ]
  },
  {
   "cell_type": "code",
   "execution_count": null,
   "id": "c195fc69",
   "metadata": {},
   "outputs": [],
   "source": [
    "prime.replace('N/A', np.NaN, inplace=True)\n",
    "prime.replace('N/A seasons', np.NaN, inplace=True)\n",
    "prime.replace('NaN', np.NaN, inplace=True)"
   ]
  },
  {
   "cell_type": "code",
   "execution_count": null,
   "id": "88d465c0",
   "metadata": {},
   "outputs": [],
   "source": [
    "prime.drop(prime[prime.isnull().sum(axis=1)>=6].index, inplace=True)"
   ]
  },
  {
   "cell_type": "code",
   "execution_count": null,
   "id": "3fd40b50",
   "metadata": {},
   "outputs": [],
   "source": [
    "prime.info()"
   ]
  },
  {
   "cell_type": "code",
   "execution_count": null,
   "id": "04f9078a",
   "metadata": {},
   "outputs": [],
   "source": [
    "prime['Actors'] = prime['Actors'].apply(lambda x: np.NaN if pd.isnull(x) else list(x.split(\", \")))\n",
    "prime['Genre'] = prime['Genre'].apply(lambda x: np.NaN if pd.isnull(x) else list(x.split(\", \")))\n",
    "prime['Language'] = prime['Language'].apply(lambda x: np.NaN if pd.isnull(x) else list(x.split(\", \")))\n",
    "prime['Country'] = prime['Country'].apply(lambda x: np.NaN if pd.isnull(x) else list(x.split(\", \")))"
   ]
  },
  {
   "cell_type": "code",
   "execution_count": null,
   "id": "5fc875d2",
   "metadata": {},
   "outputs": [],
   "source": [
    "prime['Actors'] = prime['Actors'].apply(lambda x: np.NaN if isinstance(x, float) else x[0] if len(x)==1 else x)\n",
    "prime['Genre'] = prime['Genre'].apply(lambda x: np.NaN if isinstance(x, float) else x[0] if len(x)==1 else x)\n",
    "prime['Language'] = prime['Language'].apply(lambda x: np.NaN if isinstance(x, float) else x[0] if len(x)==1 else x)\n",
    "prime['Country'] = prime['Country'].apply(lambda x: np.NaN if isinstance(x, float) else x[0] if len(x)==1 else x)"
   ]
  },
  {
   "cell_type": "code",
   "execution_count": null,
   "id": "e6ec1bf5",
   "metadata": {},
   "outputs": [],
   "source": [
    "prime['IMDb'] = prime['IMDb'].apply(lambda x: np.NaN if pd.isnull(x) else x.replace('/10', ''))\n",
    "prime['RottenTomatoes'] = prime['RottenTomatoes'].apply(lambda x: np.NaN if pd.isnull(x) else x.replace('%', ''))\n",
    "prime['Metacritic'] = prime['Metacritic'].apply(lambda x: np.NaN if pd.isnull(x) else x.replace('/100', ''))"
   ]
  },
  {
   "cell_type": "code",
   "execution_count": null,
   "id": "7f231c41",
   "metadata": {},
   "outputs": [],
   "source": [
    "prime['Runtime'] = prime['Runtime'].apply(lambda x: np.NaN if pd.isnull(x) else x.replace(' min', ''))\n",
    "prime['Runtime'] = prime['Runtime'].apply(lambda x: np.NaN if pd.isnull(x) else x.replace(' seasons', ''))\n",
    "prime['Runtime'] = prime['Runtime'].apply(lambda x: np.NaN if pd.isnull(x) else x.replace(' Seasons', ''))"
   ]
  },
  {
   "cell_type": "code",
   "execution_count": null,
   "id": "f78fc109",
   "metadata": {},
   "outputs": [],
   "source": [
    "prime['Type'] = prime['Type'].apply(lambda x: x.replace('movie', 'Movie'))\n",
    "prime['Type'] = prime['Type'].apply(lambda x: x.replace('series', 'TV Show'))"
   ]
  },
  {
   "cell_type": "code",
   "execution_count": null,
   "id": "ed03dcb4",
   "metadata": {},
   "outputs": [],
   "source": [
    "prime.reset_index(drop=True, inplace=True)"
   ]
  },
  {
   "cell_type": "code",
   "execution_count": null,
   "id": "b59378df",
   "metadata": {},
   "outputs": [],
   "source": [
    "prime.head()"
   ]
  },
  {
   "cell_type": "code",
   "execution_count": null,
   "id": "ae1fb2e7",
   "metadata": {},
   "outputs": [],
   "source": [
    "prime.info()"
   ]
  },
  {
   "cell_type": "code",
   "execution_count": null,
   "id": "f6193a65",
   "metadata": {},
   "outputs": [],
   "source": [
    "#prime.to_csv('../../data/prime.csv')"
   ]
  },
  {
   "cell_type": "markdown",
   "id": "3dd5f4ad",
   "metadata": {},
   "source": [
    "# 3. Disney+"
   ]
  },
  {
   "cell_type": "code",
   "execution_count": null,
   "id": "905b4f69",
   "metadata": {},
   "outputs": [],
   "source": [
    "disney = pd.read_csv('../../data/disney_plus_titles.csv', sep=',', header=0)\n",
    "disney.drop(columns=['show_id', 'date_added', 'description'], inplace=True)\n",
    "disney.rename(columns={'type': 'Type', 'title': 'Title', 'director': 'Director', 'cast': 'Actors',\n",
    "                  'country': 'Country', 'release_year': 'Release', 'rating': 'Rating',\n",
    "                  'duration': 'Runtime', 'listed_in': 'Genre'}, inplace=True)\n",
    "disney = disney.reindex(columns=['Type', 'Title', 'Director', 'Actors', 'Country', 'Release', 'Rating', \n",
    "                                   'Runtime', 'Genre', 'Language', 'IMDb', 'RottenTomatoes', 'Metacritic'])\n",
    "disney = disney[['Title', 'Type', 'Director', 'Actors', 'Release', 'Genre', 'Runtime', 'Language', \n",
    "                   'Country', 'Rating', 'IMDb', 'RottenTomatoes', 'Metacritic']]"
   ]
  },
  {
   "cell_type": "code",
   "execution_count": null,
   "id": "ebe8461a",
   "metadata": {},
   "outputs": [],
   "source": [
    "disney.head()"
   ]
  },
  {
   "cell_type": "code",
   "execution_count": null,
   "id": "dfb639ad",
   "metadata": {
    "scrolled": true
   },
   "outputs": [],
   "source": [
    "disney.info()"
   ]
  },
  {
   "cell_type": "code",
   "execution_count": null,
   "id": "70084b9e",
   "metadata": {},
   "outputs": [],
   "source": [
    "for index, row in tqdm(disney.iterrows(), total=disney.shape[0]):\n",
    "    r = requests.get(omdb+quote(disney.iloc[index]['Title']))\n",
    "    extract_json_data(r.json(), index, disney)"
   ]
  },
  {
   "cell_type": "code",
   "execution_count": null,
   "id": "b2ab7794",
   "metadata": {
    "scrolled": false
   },
   "outputs": [],
   "source": [
    "disney.info()"
   ]
  },
  {
   "cell_type": "code",
   "execution_count": null,
   "id": "26e56624",
   "metadata": {},
   "outputs": [],
   "source": [
    "disney.head()"
   ]
  },
  {
   "cell_type": "code",
   "execution_count": null,
   "id": "d88e7b6e",
   "metadata": {},
   "outputs": [],
   "source": [
    "#disney.to_csv('./disney.csv')"
   ]
  },
  {
   "cell_type": "code",
   "execution_count": null,
   "id": "ce5bfaf6",
   "metadata": {},
   "outputs": [],
   "source": [
    "disney['Type'].unique()"
   ]
  },
  {
   "cell_type": "code",
   "execution_count": null,
   "id": "95232fc5",
   "metadata": {
    "scrolled": false
   },
   "outputs": [],
   "source": [
    "disney[disney['Actors'].isnull()]"
   ]
  },
  {
   "cell_type": "code",
   "execution_count": null,
   "id": "a7a7ea2a",
   "metadata": {},
   "outputs": [],
   "source": [
    "disney[disney.isnull().sum(axis=1)>=6]"
   ]
  },
  {
   "cell_type": "code",
   "execution_count": null,
   "id": "1598ceea",
   "metadata": {},
   "outputs": [],
   "source": [
    "disney.replace('N/A', np.NaN, inplace=True)\n",
    "disney.replace('N/A seasons', np.NaN, inplace=True)\n",
    "disney.replace('NaN', np.NaN, inplace=True)"
   ]
  },
  {
   "cell_type": "code",
   "execution_count": null,
   "id": "f62540c6",
   "metadata": {},
   "outputs": [],
   "source": [
    "disney.drop(disney[disney.isnull().sum(axis=1)>=6].index, inplace=True)"
   ]
  },
  {
   "cell_type": "code",
   "execution_count": null,
   "id": "689d4417",
   "metadata": {},
   "outputs": [],
   "source": [
    "disney.info()"
   ]
  },
  {
   "cell_type": "code",
   "execution_count": null,
   "id": "0c9a9f47",
   "metadata": {},
   "outputs": [],
   "source": [
    "disney['Actors'] = disney['Actors'].apply(lambda x: np.NaN if pd.isnull(x) else list(x.split(\", \")))\n",
    "disney['Genre'] = disney['Genre'].apply(lambda x: np.NaN if pd.isnull(x) else list(x.split(\", \")))\n",
    "disney['Language'] = disney['Language'].apply(lambda x: np.NaN if pd.isnull(x) else list(x.split(\", \")))\n",
    "disney['Country'] = disney['Country'].apply(lambda x: np.NaN if pd.isnull(x) else list(x.split(\", \")))"
   ]
  },
  {
   "cell_type": "code",
   "execution_count": null,
   "id": "e3f15675",
   "metadata": {},
   "outputs": [],
   "source": [
    "disney['Actors'] = disney['Actors'].apply(lambda x: np.NaN if isinstance(x, float) else x[0] if len(x)==1 else x)\n",
    "disney['Genre'] = disney['Genre'].apply(lambda x: np.NaN if isinstance(x, float) else x[0] if len(x)==1 else x)\n",
    "disney['Language'] = disney['Language'].apply(lambda x: np.NaN if isinstance(x, float) else x[0] if len(x)==1 else x)\n",
    "disney['Country'] = disney['Country'].apply(lambda x: np.NaN if isinstance(x, float) else x[0] if len(x)==1 else x)"
   ]
  },
  {
   "cell_type": "code",
   "execution_count": null,
   "id": "360c91ec",
   "metadata": {},
   "outputs": [],
   "source": [
    "disney['IMDb'] = disney['IMDb'].apply(lambda x: np.NaN if pd.isnull(x) else x.replace('/10', ''))\n",
    "disney['RottenTomatoes'] = disney['RottenTomatoes'].apply(lambda x: np.NaN if pd.isnull(x) else x.replace('%', ''))\n",
    "disney['Metacritic'] = disney['Metacritic'].apply(lambda x: np.NaN if pd.isnull(x) else x.replace('/100', ''))"
   ]
  },
  {
   "cell_type": "code",
   "execution_count": null,
   "id": "69dc1d0a",
   "metadata": {},
   "outputs": [],
   "source": [
    "disney['Runtime'] = disney['Runtime'].apply(lambda x: np.NaN if pd.isnull(x) else x.replace(' min', ''))\n",
    "disney['Runtime'] = disney['Runtime'].apply(lambda x: np.NaN if pd.isnull(x) else x.replace(' seasons', ''))\n",
    "disney['Runtime'] = disney['Runtime'].apply(lambda x: np.NaN if pd.isnull(x) else x.replace(' Seasons', ''))"
   ]
  },
  {
   "cell_type": "code",
   "execution_count": null,
   "id": "389b33c9",
   "metadata": {},
   "outputs": [],
   "source": [
    "disney['Type'] = disney['Type'].apply(lambda x: x.replace('movie', 'Movie'))\n",
    "disney['Type'] = disney['Type'].apply(lambda x: x.replace('series', 'TV Show'))"
   ]
  },
  {
   "cell_type": "code",
   "execution_count": null,
   "id": "b8647477",
   "metadata": {},
   "outputs": [],
   "source": [
    "disney.reset_index(drop=True, inplace=True)"
   ]
  },
  {
   "cell_type": "code",
   "execution_count": null,
   "id": "5e853763",
   "metadata": {},
   "outputs": [],
   "source": [
    "disney.head()"
   ]
  },
  {
   "cell_type": "code",
   "execution_count": null,
   "id": "cf83f835",
   "metadata": {},
   "outputs": [],
   "source": [
    "disney.info()"
   ]
  },
  {
   "cell_type": "code",
   "execution_count": null,
   "id": "8712e981",
   "metadata": {},
   "outputs": [],
   "source": [
    "#disney.to_csv('../../data/disney.csv')"
   ]
  },
  {
   "cell_type": "code",
   "execution_count": null,
   "id": "60d382c9",
   "metadata": {},
   "outputs": [],
   "source": []
  }
 ],
 "metadata": {
  "kernelspec": {
   "display_name": "Python 3 (ipykernel)",
   "language": "python",
   "name": "python3"
  },
  "language_info": {
   "codemirror_mode": {
    "name": "ipython",
    "version": 3
   },
   "file_extension": ".py",
   "mimetype": "text/x-python",
   "name": "python",
   "nbconvert_exporter": "python",
   "pygments_lexer": "ipython3",
   "version": "3.8.12"
  }
 },
 "nbformat": 4,
 "nbformat_minor": 5
}
