{
 "cells": [
  {
   "cell_type": "code",
   "execution_count": 1,
   "id": "92697df7",
   "metadata": {},
   "outputs": [],
   "source": [
    "from dotenv import load_dotenv\n",
    "import os\n",
    "import time\n",
    "import datetime\n",
    "import json\n",
    "import requests\n",
    "from requests.utils import quote\n",
    "from tqdm.notebook import tqdm\n",
    "import pandas as pd\n",
    "import numpy as np\n",
    "import matplotlib.pyplot as plt\n",
    "import seaborn as sns"
   ]
  },
  {
   "cell_type": "code",
   "execution_count": null,
   "id": "1996975e",
   "metadata": {},
   "outputs": [],
   "source": [
    "load_dotenv('.env')\n",
    "OMDB_KEY = os.environ.get(\"OMDB_API_KEY\")\n",
    "omdb = 'http://www.omdbapi.com/?apikey={}&t='.format(OMDB_KEY)"
   ]
  },
  {
   "cell_type": "markdown",
   "id": "92e675b2",
   "metadata": {},
   "source": [
    "# 1. Netflix"
   ]
  },
  {
   "cell_type": "code",
   "execution_count": null,
   "id": "44c4aad3",
   "metadata": {},
   "outputs": [],
   "source": [
    "netflix = pd.read_csv('../data/netflix_titles.csv', sep=',', header=0)\n",
    "netflix.drop(columns=['show_id', 'date_added', 'description'], inplace=True)\n",
    "netflix.rename(columns={'type': 'Type', 'title': 'Title', 'director': 'Director', 'cast': 'Actors',\n",
    "                  'country': 'Country', 'release_year': 'Release', 'rating': 'Rating',\n",
    "                  'duration': 'Runtime', 'listed_in': 'Genre'}, inplace=True)\n",
    "netflix = netflix.reindex(columns=['Type', 'Title', 'Director', 'Actors', 'Country', 'Release', 'Rating', \n",
    "                                   'Runtime', 'Genre', 'Language', 'IMDb', 'RottenTomatoes', 'Metacritic'])\n",
    "netflix = netflix[['Title', 'Type', 'Director', 'Actors', 'Release', 'Genre', 'Runtime', 'Language', \n",
    "                   'Country', 'Rating', 'IMDb', 'RottenTomatoes', 'Metacritic']]"
   ]
  },
  {
   "cell_type": "code",
   "execution_count": null,
   "id": "15f7d670",
   "metadata": {},
   "outputs": [],
   "source": [
    "netflix.head()"
   ]
  },
  {
   "cell_type": "code",
   "execution_count": null,
   "id": "cc55984b",
   "metadata": {
    "scrolled": true
   },
   "outputs": [],
   "source": [
    "netflix.info()"
   ]
  },
  {
   "cell_type": "code",
   "execution_count": null,
   "id": "f102279c",
   "metadata": {},
   "outputs": [],
   "source": [
    "netflix.iloc[1]['Actors']"
   ]
  },
  {
   "cell_type": "code",
   "execution_count": null,
   "id": "24b7c1c9",
   "metadata": {
    "scrolled": true
   },
   "outputs": [],
   "source": [
    "listRes = list(netflix.iloc[1]['Actors'].split(\", \"))\n",
    "listRes"
   ]
  },
  {
   "cell_type": "code",
   "execution_count": null,
   "id": "80c2d661",
   "metadata": {},
   "outputs": [],
   "source": [
    "def extract_json_data(info, index, dataset):\n",
    "    if info['Response']=='True':\n",
    "        #['Title', 'Type', 'Director', 'Actors', 'Release', 'Genre', 'Runtime', 'Language', \n",
    "        # 'Country', 'Rating', 'IMDb', 'RottenTomatoes', 'Metacritic']\n",
    "        row = []\n",
    "        imdb = 'NaN'\n",
    "        rotten = 'NaN'\n",
    "        meta = 'NaN'\n",
    "        row.append(info['Title'])\n",
    "        row.append(info['Type'])\n",
    "        row.append(info['Director'])\n",
    "        row.append(info['Actors'])\n",
    "        row.append(info['Released'])\n",
    "        row.append(info['Genre'])\n",
    "        if info['Type']=='movie':\n",
    "            row.append(info['Runtime'])\n",
    "        else:\n",
    "            row.append(info['totalSeasons']+' seasons')\n",
    "        row.append(info['Language'])\n",
    "        row.append(info['Country'])\n",
    "        row.append(info['Rated'])\n",
    "        for rate in info['Ratings']:\n",
    "            if rate['Source']=='Internet Movie Database':\n",
    "                imdb = rate['Value']\n",
    "            elif rate['Source']=='Rotten Tomatoes':\n",
    "                rotten = rate['Value']\n",
    "            elif rate['Source']=='Metacritic':\n",
    "                meta = rate['Value']\n",
    "        row.append(imdb)\n",
    "        row.append(rotten)\n",
    "        row.append(meta)\n",
    "        dataset.loc[index] = row    "
   ]
  },
  {
   "cell_type": "code",
   "execution_count": null,
   "id": "78a56264",
   "metadata": {},
   "outputs": [],
   "source": [
    "r = requests.get(omdb+quote(netflix.iloc[1]['Title']))"
   ]
  },
  {
   "cell_type": "code",
   "execution_count": null,
   "id": "f4b6fc1d",
   "metadata": {},
   "outputs": [],
   "source": [
    "jsonRes = r.json()"
   ]
  },
  {
   "cell_type": "code",
   "execution_count": null,
   "id": "d4498176",
   "metadata": {},
   "outputs": [],
   "source": [
    "jsonRes"
   ]
  },
  {
   "cell_type": "code",
   "execution_count": null,
   "id": "cfc932bd",
   "metadata": {},
   "outputs": [],
   "source": [
    "for index, row in tqdm(netflix.iterrows(), total=netflix.shape[0]):\n",
    "    r = requests.get(omdb+quote(netflix.iloc[index]['Title']))\n",
    "    extract_json_data(r.json(), index, netflix)"
   ]
  },
  {
   "cell_type": "code",
   "execution_count": null,
   "id": "7081dbee",
   "metadata": {
    "scrolled": true
   },
   "outputs": [],
   "source": [
    "netflix.info()"
   ]
  },
  {
   "cell_type": "code",
   "execution_count": null,
   "id": "e640b03c",
   "metadata": {},
   "outputs": [],
   "source": [
    "netflix['Type'].unique()"
   ]
  },
  {
   "cell_type": "code",
   "execution_count": null,
   "id": "64548fd9",
   "metadata": {
    "scrolled": true
   },
   "outputs": [],
   "source": [
    "netflix[netflix['Actors'].isnull()]"
   ]
  },
  {
   "cell_type": "code",
   "execution_count": null,
   "id": "881babe2",
   "metadata": {},
   "outputs": [],
   "source": [
    "netflix.drop(netflix[netflix.isnull().sum(axis=1)>=6].index, inplace=True)"
   ]
  },
  {
   "cell_type": "code",
   "execution_count": null,
   "id": "e08bb7ac",
   "metadata": {},
   "outputs": [],
   "source": [
    "netflix.replace('N/A', np.NaN, inplace=True)\n",
    "netflix.replace('N/A seasons', np.NaN, inplace=True)\n",
    "netflix.replace('NaN', np.NaN, inplace=True)"
   ]
  },
  {
   "cell_type": "code",
   "execution_count": null,
   "id": "06c6290a",
   "metadata": {},
   "outputs": [],
   "source": [
    "netflix['Actors'] = netflix['Actors'].apply(lambda x: np.NaN if pd.isnull(x) else list(x.split(\", \")))\n",
    "netflix['Genre'] = netflix['Genre'].apply(lambda x: np.NaN if pd.isnull(x) else list(x.split(\", \")))\n",
    "netflix['Language'] = netflix['Language'].apply(lambda x: np.NaN if pd.isnull(x) else list(x.split(\", \")))\n",
    "netflix['Country'] = netflix['Country'].apply(lambda x: np.NaN if pd.isnull(x) else list(x.split(\", \")))"
   ]
  },
  {
   "cell_type": "code",
   "execution_count": null,
   "id": "ce1d9698",
   "metadata": {},
   "outputs": [],
   "source": [
    "netflix['Actors'] = netflix['Actors'].apply(lambda x: np.NaN if isinstance(x, float) else x[0] if len(x)==1 else x)\n",
    "netflix['Genre'] = netflix['Genre'].apply(lambda x: np.NaN if isinstance(x, float) else x[0] if len(x)==1 else x)\n",
    "netflix['Language'] = netflix['Language'].apply(lambda x: np.NaN if isinstance(x, float) else x[0] if len(x)==1 else x)\n",
    "netflix['Country'] = netflix['Country'].apply(lambda x: np.NaN if isinstance(x, float) else x[0] if len(x)==1 else x)"
   ]
  },
  {
   "cell_type": "code",
   "execution_count": null,
   "id": "79c8242c",
   "metadata": {},
   "outputs": [],
   "source": [
    "netflix['IMDb'] = netflix['IMDb'].apply(lambda x: np.NaN if pd.isnull(x) else x.replace('/10', ''))\n",
    "netflix['RottenTomatoes'] = netflix['RottenTomatoes'].apply(lambda x: np.NaN if pd.isnull(x) else x.replace('%', ''))\n",
    "netflix['Metacritic'] = netflix['Metacritic'].apply(lambda x: np.NaN if pd.isnull(x) else x.replace('/100', ''))"
   ]
  },
  {
   "cell_type": "code",
   "execution_count": null,
   "id": "f017b129",
   "metadata": {},
   "outputs": [],
   "source": [
    "netflix['Runtime'] = netflix['Runtime'].apply(lambda x: np.NaN if pd.isnull(x) else x.replace(' min', ''))\n",
    "netflix['Runtime'] = netflix['Runtime'].apply(lambda x: np.NaN if pd.isnull(x) else x.replace(' seasons', ''))\n",
    "netflix['Runtime'] = netflix['Runtime'].apply(lambda x: np.NaN if pd.isnull(x) else x.replace(' Seasons', ''))"
   ]
  },
  {
   "cell_type": "code",
   "execution_count": null,
   "id": "c88aba47",
   "metadata": {},
   "outputs": [],
   "source": [
    "netflix['Type'] = netflix['Type'].apply(lambda x: x.replace('movie', 'Movie'))\n",
    "netflix['Type'] = netflix['Type'].apply(lambda x: x.replace('series', 'TV Show'))"
   ]
  },
  {
   "cell_type": "code",
   "execution_count": null,
   "id": "743f20d5",
   "metadata": {},
   "outputs": [],
   "source": [
    "netflix.reset_index(drop=True, inplace=True)"
   ]
  },
  {
   "cell_type": "code",
   "execution_count": null,
   "id": "9a91a8af",
   "metadata": {},
   "outputs": [],
   "source": [
    "netflix.head()"
   ]
  },
  {
   "cell_type": "code",
   "execution_count": null,
   "id": "299a9653",
   "metadata": {},
   "outputs": [],
   "source": [
    "netflix.info()"
   ]
  },
  {
   "cell_type": "code",
   "execution_count": null,
   "id": "af8e30d4",
   "metadata": {},
   "outputs": [],
   "source": [
    "#netflix.to_csv('../data/netflix.csv')"
   ]
  },
  {
   "cell_type": "markdown",
   "id": "19376893",
   "metadata": {},
   "source": [
    "# 2. Prime Video"
   ]
  },
  {
   "cell_type": "code",
   "execution_count": null,
   "id": "be79dfe9",
   "metadata": {},
   "outputs": [],
   "source": [
    "prime = pd.read_csv('../data/amazon_prime_titles.csv', sep=',', header=0)\n",
    "prime.drop(columns=['show_id', 'date_added', 'description'], inplace=True)\n",
    "prime.rename(columns={'type': 'Type', 'title': 'Title', 'director': 'Director', 'cast': 'Actors',\n",
    "                  'country': 'Country', 'release_year': 'Release', 'rating': 'Rating',\n",
    "                  'duration': 'Runtime', 'listed_in': 'Genre'}, inplace=True)\n",
    "prime = prime.reindex(columns=['Type', 'Title', 'Director', 'Actors', 'Country', 'Release', 'Rating', \n",
    "                                   'Runtime', 'Genre', 'Language', 'IMDb', 'RottenTomatoes', 'Metacritic'])\n",
    "prime = prime[['Title', 'Type', 'Director', 'Actors', 'Release', 'Genre', 'Runtime', 'Language', \n",
    "                   'Country', 'Rating', 'IMDb', 'RottenTomatoes', 'Metacritic']]"
   ]
  },
  {
   "cell_type": "code",
   "execution_count": null,
   "id": "372ec14e",
   "metadata": {},
   "outputs": [],
   "source": [
    "prime.head()"
   ]
  },
  {
   "cell_type": "code",
   "execution_count": null,
   "id": "36ea75cb",
   "metadata": {
    "scrolled": true
   },
   "outputs": [],
   "source": [
    "prime.info()"
   ]
  },
  {
   "cell_type": "code",
   "execution_count": null,
   "id": "82a6685d",
   "metadata": {},
   "outputs": [],
   "source": [
    "for index, row in tqdm(prime.iterrows(), total=prime.shape[0]):\n",
    "    r = requests.get(omdb+quote(prime.iloc[index]['Title']))\n",
    "    extract_json_data(r.json(), index, prime)"
   ]
  },
  {
   "cell_type": "code",
   "execution_count": null,
   "id": "ab1005bd",
   "metadata": {
    "scrolled": false
   },
   "outputs": [],
   "source": [
    "prime.info()"
   ]
  },
  {
   "cell_type": "code",
   "execution_count": null,
   "id": "f366e94a",
   "metadata": {},
   "outputs": [],
   "source": [
    "prime.head()"
   ]
  },
  {
   "cell_type": "code",
   "execution_count": null,
   "id": "06c27420",
   "metadata": {},
   "outputs": [],
   "source": [
    "#prime.to_csv('../data/prime.csv')"
   ]
  },
  {
   "cell_type": "code",
   "execution_count": null,
   "id": "9c8b2688",
   "metadata": {},
   "outputs": [],
   "source": [
    "prime['Type'].unique()"
   ]
  },
  {
   "cell_type": "code",
   "execution_count": null,
   "id": "1334bc6b",
   "metadata": {
    "scrolled": false
   },
   "outputs": [],
   "source": [
    "prime[prime['Actors'].isnull()]"
   ]
  },
  {
   "cell_type": "code",
   "execution_count": null,
   "id": "62ec16ec",
   "metadata": {},
   "outputs": [],
   "source": [
    "prime[prime.isnull().sum(axis=1)>=7]"
   ]
  },
  {
   "cell_type": "code",
   "execution_count": null,
   "id": "c195fc69",
   "metadata": {},
   "outputs": [],
   "source": [
    "prime.replace('N/A', np.NaN, inplace=True)\n",
    "prime.replace('N/A seasons', np.NaN, inplace=True)\n",
    "prime.replace('NaN', np.NaN, inplace=True)"
   ]
  },
  {
   "cell_type": "code",
   "execution_count": null,
   "id": "88d465c0",
   "metadata": {},
   "outputs": [],
   "source": [
    "prime.drop(prime[prime.isnull().sum(axis=1)>=6].index, inplace=True)"
   ]
  },
  {
   "cell_type": "code",
   "execution_count": null,
   "id": "3fd40b50",
   "metadata": {},
   "outputs": [],
   "source": [
    "prime.info()"
   ]
  },
  {
   "cell_type": "code",
   "execution_count": null,
   "id": "04f9078a",
   "metadata": {},
   "outputs": [],
   "source": [
    "prime['Actors'] = prime['Actors'].apply(lambda x: np.NaN if pd.isnull(x) else list(x.split(\", \")))\n",
    "prime['Genre'] = prime['Genre'].apply(lambda x: np.NaN if pd.isnull(x) else list(x.split(\", \")))\n",
    "prime['Language'] = prime['Language'].apply(lambda x: np.NaN if pd.isnull(x) else list(x.split(\", \")))\n",
    "prime['Country'] = prime['Country'].apply(lambda x: np.NaN if pd.isnull(x) else list(x.split(\", \")))"
   ]
  },
  {
   "cell_type": "code",
   "execution_count": null,
   "id": "5fc875d2",
   "metadata": {},
   "outputs": [],
   "source": [
    "prime['Actors'] = prime['Actors'].apply(lambda x: np.NaN if isinstance(x, float) else x[0] if len(x)==1 else x)\n",
    "prime['Genre'] = prime['Genre'].apply(lambda x: np.NaN if isinstance(x, float) else x[0] if len(x)==1 else x)\n",
    "prime['Language'] = prime['Language'].apply(lambda x: np.NaN if isinstance(x, float) else x[0] if len(x)==1 else x)\n",
    "prime['Country'] = prime['Country'].apply(lambda x: np.NaN if isinstance(x, float) else x[0] if len(x)==1 else x)"
   ]
  },
  {
   "cell_type": "code",
   "execution_count": null,
   "id": "e6ec1bf5",
   "metadata": {},
   "outputs": [],
   "source": [
    "prime['IMDb'] = prime['IMDb'].apply(lambda x: np.NaN if pd.isnull(x) else x.replace('/10', ''))\n",
    "prime['RottenTomatoes'] = prime['RottenTomatoes'].apply(lambda x: np.NaN if pd.isnull(x) else x.replace('%', ''))\n",
    "prime['Metacritic'] = prime['Metacritic'].apply(lambda x: np.NaN if pd.isnull(x) else x.replace('/100', ''))"
   ]
  },
  {
   "cell_type": "code",
   "execution_count": null,
   "id": "7f231c41",
   "metadata": {},
   "outputs": [],
   "source": [
    "prime['Runtime'] = prime['Runtime'].apply(lambda x: np.NaN if pd.isnull(x) else x.replace(' min', ''))\n",
    "prime['Runtime'] = prime['Runtime'].apply(lambda x: np.NaN if pd.isnull(x) else x.replace(' seasons', ''))\n",
    "prime['Runtime'] = prime['Runtime'].apply(lambda x: np.NaN if pd.isnull(x) else x.replace(' Seasons', ''))"
   ]
  },
  {
   "cell_type": "code",
   "execution_count": null,
   "id": "f78fc109",
   "metadata": {},
   "outputs": [],
   "source": [
    "prime['Type'] = prime['Type'].apply(lambda x: x.replace('movie', 'Movie'))\n",
    "prime['Type'] = prime['Type'].apply(lambda x: x.replace('series', 'TV Show'))"
   ]
  },
  {
   "cell_type": "code",
   "execution_count": null,
   "id": "ed03dcb4",
   "metadata": {},
   "outputs": [],
   "source": [
    "prime.reset_index(drop=True, inplace=True)"
   ]
  },
  {
   "cell_type": "code",
   "execution_count": null,
   "id": "b59378df",
   "metadata": {},
   "outputs": [],
   "source": [
    "prime.head()"
   ]
  },
  {
   "cell_type": "code",
   "execution_count": null,
   "id": "ae1fb2e7",
   "metadata": {},
   "outputs": [],
   "source": [
    "prime.info()"
   ]
  },
  {
   "cell_type": "code",
   "execution_count": null,
   "id": "f6193a65",
   "metadata": {},
   "outputs": [],
   "source": [
    "#prime.to_csv('../data/prime.csv')"
   ]
  },
  {
   "cell_type": "markdown",
   "id": "3dd5f4ad",
   "metadata": {},
   "source": [
    "# 3. Disney+"
   ]
  },
  {
   "cell_type": "code",
   "execution_count": null,
   "id": "905b4f69",
   "metadata": {},
   "outputs": [],
   "source": [
    "disney = pd.read_csv('../data/disney_plus_titles.csv', sep=',', header=0)\n",
    "disney.drop(columns=['show_id', 'date_added', 'description'], inplace=True)\n",
    "disney.rename(columns={'type': 'Type', 'title': 'Title', 'director': 'Director', 'cast': 'Actors',\n",
    "                  'country': 'Country', 'release_year': 'Release', 'rating': 'Rating',\n",
    "                  'duration': 'Runtime', 'listed_in': 'Genre'}, inplace=True)\n",
    "disney = disney.reindex(columns=['Type', 'Title', 'Director', 'Actors', 'Country', 'Release', 'Rating', \n",
    "                                   'Runtime', 'Genre', 'Language', 'IMDb', 'RottenTomatoes', 'Metacritic'])\n",
    "disney = disney[['Title', 'Type', 'Director', 'Actors', 'Release', 'Genre', 'Runtime', 'Language', \n",
    "                   'Country', 'Rating', 'IMDb', 'RottenTomatoes', 'Metacritic']]"
   ]
  },
  {
   "cell_type": "code",
   "execution_count": null,
   "id": "ebe8461a",
   "metadata": {},
   "outputs": [],
   "source": [
    "disney.head()"
   ]
  },
  {
   "cell_type": "code",
   "execution_count": null,
   "id": "dfb639ad",
   "metadata": {
    "scrolled": true
   },
   "outputs": [],
   "source": [
    "disney.info()"
   ]
  },
  {
   "cell_type": "code",
   "execution_count": null,
   "id": "70084b9e",
   "metadata": {},
   "outputs": [],
   "source": [
    "for index, row in tqdm(disney.iterrows(), total=disney.shape[0]):\n",
    "    r = requests.get(omdb+quote(disney.iloc[index]['Title']))\n",
    "    extract_json_data(r.json(), index, disney)"
   ]
  },
  {
   "cell_type": "code",
   "execution_count": null,
   "id": "b2ab7794",
   "metadata": {
    "scrolled": false
   },
   "outputs": [],
   "source": [
    "disney.info()"
   ]
  },
  {
   "cell_type": "code",
   "execution_count": null,
   "id": "26e56624",
   "metadata": {},
   "outputs": [],
   "source": [
    "disney.head()"
   ]
  },
  {
   "cell_type": "code",
   "execution_count": null,
   "id": "d88e7b6e",
   "metadata": {},
   "outputs": [],
   "source": [
    "#disney.to_csv('../data/disney.csv')"
   ]
  },
  {
   "cell_type": "code",
   "execution_count": null,
   "id": "ce5bfaf6",
   "metadata": {},
   "outputs": [],
   "source": [
    "disney['Type'].unique()"
   ]
  },
  {
   "cell_type": "code",
   "execution_count": null,
   "id": "95232fc5",
   "metadata": {
    "scrolled": false
   },
   "outputs": [],
   "source": [
    "disney[disney['Actors'].isnull()]"
   ]
  },
  {
   "cell_type": "code",
   "execution_count": null,
   "id": "a7a7ea2a",
   "metadata": {},
   "outputs": [],
   "source": [
    "disney[disney.isnull().sum(axis=1)>=6]"
   ]
  },
  {
   "cell_type": "code",
   "execution_count": null,
   "id": "1598ceea",
   "metadata": {},
   "outputs": [],
   "source": [
    "disney.replace('N/A', np.NaN, inplace=True)\n",
    "disney.replace('N/A seasons', np.NaN, inplace=True)\n",
    "disney.replace('NaN', np.NaN, inplace=True)"
   ]
  },
  {
   "cell_type": "code",
   "execution_count": null,
   "id": "f62540c6",
   "metadata": {},
   "outputs": [],
   "source": [
    "disney.drop(disney[disney.isnull().sum(axis=1)>=6].index, inplace=True)"
   ]
  },
  {
   "cell_type": "code",
   "execution_count": null,
   "id": "689d4417",
   "metadata": {},
   "outputs": [],
   "source": [
    "disney.info()"
   ]
  },
  {
   "cell_type": "code",
   "execution_count": null,
   "id": "0c9a9f47",
   "metadata": {},
   "outputs": [],
   "source": [
    "disney['Actors'] = disney['Actors'].apply(lambda x: np.NaN if pd.isnull(x) else list(x.split(\", \")))\n",
    "disney['Genre'] = disney['Genre'].apply(lambda x: np.NaN if pd.isnull(x) else list(x.split(\", \")))\n",
    "disney['Language'] = disney['Language'].apply(lambda x: np.NaN if pd.isnull(x) else list(x.split(\", \")))\n",
    "disney['Country'] = disney['Country'].apply(lambda x: np.NaN if pd.isnull(x) else list(x.split(\", \")))"
   ]
  },
  {
   "cell_type": "code",
   "execution_count": null,
   "id": "e3f15675",
   "metadata": {},
   "outputs": [],
   "source": [
    "disney['Actors'] = disney['Actors'].apply(lambda x: np.NaN if isinstance(x, float) else x[0] if len(x)==1 else x)\n",
    "disney['Genre'] = disney['Genre'].apply(lambda x: np.NaN if isinstance(x, float) else x[0] if len(x)==1 else x)\n",
    "disney['Language'] = disney['Language'].apply(lambda x: np.NaN if isinstance(x, float) else x[0] if len(x)==1 else x)\n",
    "disney['Country'] = disney['Country'].apply(lambda x: np.NaN if isinstance(x, float) else x[0] if len(x)==1 else x)"
   ]
  },
  {
   "cell_type": "code",
   "execution_count": null,
   "id": "360c91ec",
   "metadata": {},
   "outputs": [],
   "source": [
    "disney['IMDb'] = disney['IMDb'].apply(lambda x: np.NaN if pd.isnull(x) else x.replace('/10', ''))\n",
    "disney['RottenTomatoes'] = disney['RottenTomatoes'].apply(lambda x: np.NaN if pd.isnull(x) else x.replace('%', ''))\n",
    "disney['Metacritic'] = disney['Metacritic'].apply(lambda x: np.NaN if pd.isnull(x) else x.replace('/100', ''))"
   ]
  },
  {
   "cell_type": "code",
   "execution_count": null,
   "id": "69dc1d0a",
   "metadata": {},
   "outputs": [],
   "source": [
    "disney['Runtime'] = disney['Runtime'].apply(lambda x: np.NaN if pd.isnull(x) else x.replace(' min', ''))\n",
    "disney['Runtime'] = disney['Runtime'].apply(lambda x: np.NaN if pd.isnull(x) else x.replace(' seasons', ''))\n",
    "disney['Runtime'] = disney['Runtime'].apply(lambda x: np.NaN if pd.isnull(x) else x.replace(' Seasons', ''))"
   ]
  },
  {
   "cell_type": "code",
   "execution_count": null,
   "id": "389b33c9",
   "metadata": {},
   "outputs": [],
   "source": [
    "disney['Type'] = disney['Type'].apply(lambda x: x.replace('movie', 'Movie'))\n",
    "disney['Type'] = disney['Type'].apply(lambda x: x.replace('series', 'TV Show'))"
   ]
  },
  {
   "cell_type": "code",
   "execution_count": null,
   "id": "b8647477",
   "metadata": {},
   "outputs": [],
   "source": [
    "disney.reset_index(drop=True, inplace=True)"
   ]
  },
  {
   "cell_type": "code",
   "execution_count": null,
   "id": "5e853763",
   "metadata": {},
   "outputs": [],
   "source": [
    "disney.head()"
   ]
  },
  {
   "cell_type": "code",
   "execution_count": null,
   "id": "cf83f835",
   "metadata": {},
   "outputs": [],
   "source": [
    "disney.info()"
   ]
  },
  {
   "cell_type": "code",
   "execution_count": null,
   "id": "8712e981",
   "metadata": {},
   "outputs": [],
   "source": [
    "#disney.to_csv('../data/disney.csv')"
   ]
  },
  {
   "cell_type": "markdown",
   "id": "414f68a4",
   "metadata": {},
   "source": [
    "# Merge datasets"
   ]
  },
  {
   "cell_type": "code",
   "execution_count": 15,
   "id": "3b127b23",
   "metadata": {},
   "outputs": [],
   "source": [
    "netflix = pd.read_csv('../data/netflix.csv', sep=',', header=0, index_col=0)\n",
    "netflix['Platform'] = 'Netflix'\n",
    "prime = pd.read_csv('../data/prime.csv', sep=',', header=0, index_col=0)\n",
    "prime['Platform'] = 'Prime'\n",
    "disney = pd.read_csv('../data/disney.csv', sep=',', header=0, index_col=0)\n",
    "disney['Platform'] = 'Disney'"
   ]
  },
  {
   "cell_type": "code",
   "execution_count": 18,
   "id": "fd0a0ce1",
   "metadata": {},
   "outputs": [
    {
     "name": "stdout",
     "output_type": "stream",
     "text": [
      "<class 'pandas.core.frame.DataFrame'>\n",
      "Int64Index: 8453 entries, 0 to 8452\n",
      "Data columns (total 14 columns):\n",
      " #   Column          Non-Null Count  Dtype  \n",
      "---  ------          --------------  -----  \n",
      " 0   Title           8453 non-null   object \n",
      " 1   Type            8453 non-null   object \n",
      " 2   Director        6241 non-null   object \n",
      " 3   Actors          8284 non-null   object \n",
      " 4   Release         8275 non-null   object \n",
      " 5   Genre           8446 non-null   object \n",
      " 6   Runtime         8295 non-null   object \n",
      " 7   Language        7494 non-null   object \n",
      " 8   Country         8249 non-null   object \n",
      " 9   Rating          6136 non-null   object \n",
      " 10  IMDb            7520 non-null   float64\n",
      " 11  RottenTomatoes  2846 non-null   float64\n",
      " 12  Metacritic      2079 non-null   float64\n",
      " 13  Platform        8453 non-null   object \n",
      "dtypes: float64(3), object(11)\n",
      "memory usage: 990.6+ KB\n"
     ]
    }
   ],
   "source": [
    "netflix.info()"
   ]
  },
  {
   "cell_type": "code",
   "execution_count": 19,
   "id": "42d3c6e8",
   "metadata": {},
   "outputs": [
    {
     "name": "stdout",
     "output_type": "stream",
     "text": [
      "<class 'pandas.core.frame.DataFrame'>\n",
      "Int64Index: 8271 entries, 0 to 8270\n",
      "Data columns (total 14 columns):\n",
      " #   Column          Non-Null Count  Dtype  \n",
      "---  ------          --------------  -----  \n",
      " 0   Title           8271 non-null   object \n",
      " 1   Type            8271 non-null   object \n",
      " 2   Director        7149 non-null   object \n",
      " 3   Actors          8164 non-null   object \n",
      " 4   Release         7970 non-null   object \n",
      " 5   Genre           8243 non-null   object \n",
      " 6   Runtime         8021 non-null   object \n",
      " 7   Language        6912 non-null   object \n",
      " 8   Country         7043 non-null   object \n",
      " 9   Rating          5765 non-null   object \n",
      " 10  IMDb            6662 non-null   float64\n",
      " 11  RottenTomatoes  2086 non-null   float64\n",
      " 12  Metacritic      1343 non-null   float64\n",
      " 13  Platform        8271 non-null   object \n",
      "dtypes: float64(3), object(11)\n",
      "memory usage: 969.3+ KB\n"
     ]
    }
   ],
   "source": [
    "prime.info()"
   ]
  },
  {
   "cell_type": "code",
   "execution_count": 20,
   "id": "8fec4383",
   "metadata": {},
   "outputs": [
    {
     "name": "stdout",
     "output_type": "stream",
     "text": [
      "<class 'pandas.core.frame.DataFrame'>\n",
      "Int64Index: 1328 entries, 0 to 1327\n",
      "Data columns (total 14 columns):\n",
      " #   Column          Non-Null Count  Dtype  \n",
      "---  ------          --------------  -----  \n",
      " 0   Title           1328 non-null   object \n",
      " 1   Type            1328 non-null   object \n",
      " 2   Director        994 non-null    object \n",
      " 3   Actors          1300 non-null   object \n",
      " 4   Release         1322 non-null   object \n",
      " 5   Genre           1327 non-null   object \n",
      " 6   Runtime         1307 non-null   object \n",
      " 7   Language        1104 non-null   object \n",
      " 8   Country         1297 non-null   object \n",
      " 9   Rating          1173 non-null   object \n",
      " 10  IMDb            1094 non-null   float64\n",
      " 11  RottenTomatoes  443 non-null    float64\n",
      " 12  Metacritic      370 non-null    float64\n",
      " 13  Platform        1328 non-null   object \n",
      "dtypes: float64(3), object(11)\n",
      "memory usage: 155.6+ KB\n"
     ]
    }
   ],
   "source": [
    "disney.info()"
   ]
  },
  {
   "cell_type": "code",
   "execution_count": 24,
   "id": "b0187f09",
   "metadata": {},
   "outputs": [],
   "source": [
    "df = pd.concat([netflix, prime, disney], ignore_index=True)"
   ]
  },
  {
   "cell_type": "code",
   "execution_count": 25,
   "id": "11d02ffe",
   "metadata": {},
   "outputs": [
    {
     "name": "stdout",
     "output_type": "stream",
     "text": [
      "<class 'pandas.core.frame.DataFrame'>\n",
      "RangeIndex: 18052 entries, 0 to 18051\n",
      "Data columns (total 14 columns):\n",
      " #   Column          Non-Null Count  Dtype  \n",
      "---  ------          --------------  -----  \n",
      " 0   Title           18052 non-null  object \n",
      " 1   Type            18052 non-null  object \n",
      " 2   Director        14384 non-null  object \n",
      " 3   Actors          17748 non-null  object \n",
      " 4   Release         17567 non-null  object \n",
      " 5   Genre           18016 non-null  object \n",
      " 6   Runtime         17623 non-null  object \n",
      " 7   Language        15510 non-null  object \n",
      " 8   Country         16589 non-null  object \n",
      " 9   Rating          13074 non-null  object \n",
      " 10  IMDb            15276 non-null  float64\n",
      " 11  RottenTomatoes  5375 non-null   float64\n",
      " 12  Metacritic      3792 non-null   float64\n",
      " 13  Platform        18052 non-null  object \n",
      "dtypes: float64(3), object(11)\n",
      "memory usage: 1.9+ MB\n"
     ]
    }
   ],
   "source": [
    "df.info()"
   ]
  },
  {
   "cell_type": "code",
   "execution_count": 26,
   "id": "577ef87d",
   "metadata": {},
   "outputs": [
    {
     "data": {
      "text/html": [
       "<div>\n",
       "<style scoped>\n",
       "    .dataframe tbody tr th:only-of-type {\n",
       "        vertical-align: middle;\n",
       "    }\n",
       "\n",
       "    .dataframe tbody tr th {\n",
       "        vertical-align: top;\n",
       "    }\n",
       "\n",
       "    .dataframe thead th {\n",
       "        text-align: right;\n",
       "    }\n",
       "</style>\n",
       "<table border=\"1\" class=\"dataframe\">\n",
       "  <thead>\n",
       "    <tr style=\"text-align: right;\">\n",
       "      <th></th>\n",
       "      <th>Title</th>\n",
       "      <th>Type</th>\n",
       "      <th>Director</th>\n",
       "      <th>Actors</th>\n",
       "      <th>Release</th>\n",
       "      <th>Genre</th>\n",
       "      <th>Runtime</th>\n",
       "      <th>Language</th>\n",
       "      <th>Country</th>\n",
       "      <th>Rating</th>\n",
       "      <th>IMDb</th>\n",
       "      <th>RottenTomatoes</th>\n",
       "      <th>Metacritic</th>\n",
       "      <th>Platform</th>\n",
       "    </tr>\n",
       "  </thead>\n",
       "  <tbody>\n",
       "    <tr>\n",
       "      <th>0</th>\n",
       "      <td>Dick Johnson Is Dead</td>\n",
       "      <td>Movie</td>\n",
       "      <td>Kirsten Johnson</td>\n",
       "      <td>['Michael Hilow', 'Ana Hoffman', 'Dick Johnson']</td>\n",
       "      <td>02 Oct 2020</td>\n",
       "      <td>['Documentary', 'Drama']</td>\n",
       "      <td>89</td>\n",
       "      <td>English</td>\n",
       "      <td>United States</td>\n",
       "      <td>PG-13</td>\n",
       "      <td>7.4</td>\n",
       "      <td>100.0</td>\n",
       "      <td>89.0</td>\n",
       "      <td>Netflix</td>\n",
       "    </tr>\n",
       "    <tr>\n",
       "      <th>1</th>\n",
       "      <td>Blood &amp; Water</td>\n",
       "      <td>TV Show</td>\n",
       "      <td>NaN</td>\n",
       "      <td>['Ama Qamata', 'Khosi Ngema', 'Gail Mabalane']</td>\n",
       "      <td>20 May 2020</td>\n",
       "      <td>['Drama', 'Mystery']</td>\n",
       "      <td>2</td>\n",
       "      <td>English</td>\n",
       "      <td>South Africa</td>\n",
       "      <td>TV-MA</td>\n",
       "      <td>6.6</td>\n",
       "      <td>NaN</td>\n",
       "      <td>NaN</td>\n",
       "      <td>Netflix</td>\n",
       "    </tr>\n",
       "    <tr>\n",
       "      <th>2</th>\n",
       "      <td>Ganglands</td>\n",
       "      <td>TV Show</td>\n",
       "      <td>NaN</td>\n",
       "      <td>['Nabiha Akkari', 'Sami Bouajila', 'Salim Kech...</td>\n",
       "      <td>24 Sep 2021</td>\n",
       "      <td>['Action', 'Crime', 'Drama']</td>\n",
       "      <td>1</td>\n",
       "      <td>French</td>\n",
       "      <td>France</td>\n",
       "      <td>TV-MA</td>\n",
       "      <td>7.0</td>\n",
       "      <td>NaN</td>\n",
       "      <td>NaN</td>\n",
       "      <td>Netflix</td>\n",
       "    </tr>\n",
       "    <tr>\n",
       "      <th>3</th>\n",
       "      <td>Jailbirds New Orleans</td>\n",
       "      <td>TV Show</td>\n",
       "      <td>NaN</td>\n",
       "      <td>NaN</td>\n",
       "      <td>24 Sep 2021</td>\n",
       "      <td>['Documentary', 'Reality-TV']</td>\n",
       "      <td>1</td>\n",
       "      <td>English</td>\n",
       "      <td>United States</td>\n",
       "      <td>TV-MA</td>\n",
       "      <td>6.7</td>\n",
       "      <td>NaN</td>\n",
       "      <td>NaN</td>\n",
       "      <td>Netflix</td>\n",
       "    </tr>\n",
       "    <tr>\n",
       "      <th>4</th>\n",
       "      <td>Kota Factory</td>\n",
       "      <td>TV Show</td>\n",
       "      <td>NaN</td>\n",
       "      <td>['Mayur More', 'Jitendra Kumar', 'Ranjan Raj']</td>\n",
       "      <td>16 Apr 2019</td>\n",
       "      <td>['Comedy', 'Drama']</td>\n",
       "      <td>2</td>\n",
       "      <td>Hindi</td>\n",
       "      <td>India</td>\n",
       "      <td>TV-14</td>\n",
       "      <td>9.2</td>\n",
       "      <td>NaN</td>\n",
       "      <td>NaN</td>\n",
       "      <td>Netflix</td>\n",
       "    </tr>\n",
       "  </tbody>\n",
       "</table>\n",
       "</div>"
      ],
      "text/plain": [
       "                   Title     Type         Director  \\\n",
       "0   Dick Johnson Is Dead    Movie  Kirsten Johnson   \n",
       "1          Blood & Water  TV Show              NaN   \n",
       "2              Ganglands  TV Show              NaN   \n",
       "3  Jailbirds New Orleans  TV Show              NaN   \n",
       "4           Kota Factory  TV Show              NaN   \n",
       "\n",
       "                                              Actors      Release  \\\n",
       "0   ['Michael Hilow', 'Ana Hoffman', 'Dick Johnson']  02 Oct 2020   \n",
       "1     ['Ama Qamata', 'Khosi Ngema', 'Gail Mabalane']  20 May 2020   \n",
       "2  ['Nabiha Akkari', 'Sami Bouajila', 'Salim Kech...  24 Sep 2021   \n",
       "3                                                NaN  24 Sep 2021   \n",
       "4     ['Mayur More', 'Jitendra Kumar', 'Ranjan Raj']  16 Apr 2019   \n",
       "\n",
       "                           Genre Runtime Language        Country Rating  IMDb  \\\n",
       "0       ['Documentary', 'Drama']      89  English  United States  PG-13   7.4   \n",
       "1           ['Drama', 'Mystery']       2  English   South Africa  TV-MA   6.6   \n",
       "2   ['Action', 'Crime', 'Drama']       1   French         France  TV-MA   7.0   \n",
       "3  ['Documentary', 'Reality-TV']       1  English  United States  TV-MA   6.7   \n",
       "4            ['Comedy', 'Drama']       2    Hindi          India  TV-14   9.2   \n",
       "\n",
       "   RottenTomatoes  Metacritic Platform  \n",
       "0           100.0        89.0  Netflix  \n",
       "1             NaN         NaN  Netflix  \n",
       "2             NaN         NaN  Netflix  \n",
       "3             NaN         NaN  Netflix  \n",
       "4             NaN         NaN  Netflix  "
      ]
     },
     "execution_count": 26,
     "metadata": {},
     "output_type": "execute_result"
    }
   ],
   "source": [
    "df.head()"
   ]
  },
  {
   "cell_type": "code",
   "execution_count": 27,
   "id": "00039bcc",
   "metadata": {},
   "outputs": [],
   "source": [
    "df.to_csv('../data/data.csv')"
   ]
  },
  {
   "cell_type": "code",
   "execution_count": 108,
   "id": "33d27563",
   "metadata": {},
   "outputs": [],
   "source": [
    "netflix_rev = pd.read_csv('../data/netflix_revenues.csv', sep=',', header=0, index_col=0)\n",
    "netflix_rev['Platform'] = 'Netflix'\n",
    "prime_rev = pd.read_csv('../data/prime_revenues.csv', sep=',', header=0, index_col=0)\n",
    "prime_rev['Platform'] = 'Prime'\n",
    "disney_rev = pd.read_csv('../data/disney_revenues.csv', sep=',', header=0, index_col=0)\n",
    "disney_rev['Platform'] = 'Disney'"
   ]
  },
  {
   "cell_type": "code",
   "execution_count": 109,
   "id": "4cc116c4",
   "metadata": {},
   "outputs": [],
   "source": [
    "netflix_rev['Revenue'] = netflix_rev.groupby(['Year', 'Quarter'])[['Revenue']].transform('sum')\n",
    "netflix_rev['Subscriptions'] = netflix_rev.groupby(['Year', 'Quarter'])[['Subscriptions']].transform('sum')\n",
    "netflix_rev.drop('Area', axis=1, inplace=True)\n",
    "netflix_rev.drop_duplicates(inplace=True, ignore_index=True)"
   ]
  },
  {
   "cell_type": "code",
   "execution_count": 111,
   "id": "b676db1e",
   "metadata": {},
   "outputs": [
    {
     "name": "stdout",
     "output_type": "stream",
     "text": [
      "<class 'pandas.core.frame.DataFrame'>\n",
      "RangeIndex: 16 entries, 0 to 15\n",
      "Data columns (total 5 columns):\n",
      " #   Column         Non-Null Count  Dtype \n",
      "---  ------         --------------  ----- \n",
      " 0   Year           16 non-null     int64 \n",
      " 1   Quarter        16 non-null     object\n",
      " 2   Revenue        16 non-null     int64 \n",
      " 3   Subscriptions  16 non-null     int64 \n",
      " 4   Platform       16 non-null     object\n",
      "dtypes: int64(3), object(2)\n",
      "memory usage: 768.0+ bytes\n"
     ]
    }
   ],
   "source": [
    "netflix_rev.info()"
   ]
  },
  {
   "cell_type": "code",
   "execution_count": 112,
   "id": "1c03ac93",
   "metadata": {},
   "outputs": [
    {
     "name": "stdout",
     "output_type": "stream",
     "text": [
      "<class 'pandas.core.frame.DataFrame'>\n",
      "Int64Index: 16 entries, 0 to 15\n",
      "Data columns (total 5 columns):\n",
      " #   Column         Non-Null Count  Dtype \n",
      "---  ------         --------------  ----- \n",
      " 0   Year           16 non-null     int64 \n",
      " 1   Quarter        16 non-null     object\n",
      " 2   Revenue        16 non-null     int64 \n",
      " 3   Subscriptions  16 non-null     int64 \n",
      " 4   Platform       16 non-null     object\n",
      "dtypes: int64(3), object(2)\n",
      "memory usage: 768.0+ bytes\n"
     ]
    }
   ],
   "source": [
    "prime_rev.info()"
   ]
  },
  {
   "cell_type": "code",
   "execution_count": 113,
   "id": "931a728d",
   "metadata": {},
   "outputs": [
    {
     "name": "stdout",
     "output_type": "stream",
     "text": [
      "<class 'pandas.core.frame.DataFrame'>\n",
      "Int64Index: 8 entries, 0 to 7\n",
      "Data columns (total 5 columns):\n",
      " #   Column         Non-Null Count  Dtype \n",
      "---  ------         --------------  ----- \n",
      " 0   Year           8 non-null      int64 \n",
      " 1   Quarter        8 non-null      object\n",
      " 2   Revenue        8 non-null      int64 \n",
      " 3   Subscriptions  8 non-null      int64 \n",
      " 4   Platform       8 non-null      object\n",
      "dtypes: int64(3), object(2)\n",
      "memory usage: 384.0+ bytes\n"
     ]
    }
   ],
   "source": [
    "disney_rev.info()"
   ]
  },
  {
   "cell_type": "code",
   "execution_count": 114,
   "id": "b65da8c8",
   "metadata": {},
   "outputs": [],
   "source": [
    "df_rev = pd.concat([netflix_rev, prime_rev, disney_rev], ignore_index=True)"
   ]
  },
  {
   "cell_type": "code",
   "execution_count": 115,
   "id": "b6fedace",
   "metadata": {},
   "outputs": [
    {
     "name": "stdout",
     "output_type": "stream",
     "text": [
      "<class 'pandas.core.frame.DataFrame'>\n",
      "RangeIndex: 40 entries, 0 to 39\n",
      "Data columns (total 5 columns):\n",
      " #   Column         Non-Null Count  Dtype \n",
      "---  ------         --------------  ----- \n",
      " 0   Year           40 non-null     int64 \n",
      " 1   Quarter        40 non-null     object\n",
      " 2   Revenue        40 non-null     int64 \n",
      " 3   Subscriptions  40 non-null     int64 \n",
      " 4   Platform       40 non-null     object\n",
      "dtypes: int64(3), object(2)\n",
      "memory usage: 1.7+ KB\n"
     ]
    }
   ],
   "source": [
    "df_rev.info()"
   ]
  },
  {
   "cell_type": "code",
   "execution_count": 116,
   "id": "207c7b53",
   "metadata": {},
   "outputs": [
    {
     "data": {
      "text/html": [
       "<div>\n",
       "<style scoped>\n",
       "    .dataframe tbody tr th:only-of-type {\n",
       "        vertical-align: middle;\n",
       "    }\n",
       "\n",
       "    .dataframe tbody tr th {\n",
       "        vertical-align: top;\n",
       "    }\n",
       "\n",
       "    .dataframe thead th {\n",
       "        text-align: right;\n",
       "    }\n",
       "</style>\n",
       "<table border=\"1\" class=\"dataframe\">\n",
       "  <thead>\n",
       "    <tr style=\"text-align: right;\">\n",
       "      <th></th>\n",
       "      <th>Year</th>\n",
       "      <th>Quarter</th>\n",
       "      <th>Revenue</th>\n",
       "      <th>Subscriptions</th>\n",
       "      <th>Platform</th>\n",
       "    </tr>\n",
       "  </thead>\n",
       "  <tbody>\n",
       "    <tr>\n",
       "      <th>0</th>\n",
       "      <td>2018</td>\n",
       "      <td>Q1</td>\n",
       "      <td>3602000000</td>\n",
       "      <td>118910000</td>\n",
       "      <td>Netflix</td>\n",
       "    </tr>\n",
       "    <tr>\n",
       "      <th>1</th>\n",
       "      <td>2018</td>\n",
       "      <td>Q2</td>\n",
       "      <td>3814000000</td>\n",
       "      <td>124350000</td>\n",
       "      <td>Netflix</td>\n",
       "    </tr>\n",
       "    <tr>\n",
       "      <th>2</th>\n",
       "      <td>2018</td>\n",
       "      <td>Q3</td>\n",
       "      <td>3910000000</td>\n",
       "      <td>130420000</td>\n",
       "      <td>Netflix</td>\n",
       "    </tr>\n",
       "    <tr>\n",
       "      <th>3</th>\n",
       "      <td>2018</td>\n",
       "      <td>Q4</td>\n",
       "      <td>4102000000</td>\n",
       "      <td>139260000</td>\n",
       "      <td>Netflix</td>\n",
       "    </tr>\n",
       "    <tr>\n",
       "      <th>4</th>\n",
       "      <td>2019</td>\n",
       "      <td>Q1</td>\n",
       "      <td>4440000000</td>\n",
       "      <td>148860000</td>\n",
       "      <td>Netflix</td>\n",
       "    </tr>\n",
       "  </tbody>\n",
       "</table>\n",
       "</div>"
      ],
      "text/plain": [
       "   Year Quarter     Revenue  Subscriptions Platform\n",
       "0  2018      Q1  3602000000      118910000  Netflix\n",
       "1  2018      Q2  3814000000      124350000  Netflix\n",
       "2  2018      Q3  3910000000      130420000  Netflix\n",
       "3  2018      Q4  4102000000      139260000  Netflix\n",
       "4  2019      Q1  4440000000      148860000  Netflix"
      ]
     },
     "execution_count": 116,
     "metadata": {},
     "output_type": "execute_result"
    }
   ],
   "source": [
    "df_rev.head()"
   ]
  },
  {
   "cell_type": "code",
   "execution_count": 117,
   "id": "57b95489",
   "metadata": {},
   "outputs": [],
   "source": [
    "df_rev.to_csv('../data/revenues.csv')"
   ]
  },
  {
   "cell_type": "code",
   "execution_count": null,
   "id": "07ff8d35",
   "metadata": {},
   "outputs": [],
   "source": []
  }
 ],
 "metadata": {
  "kernelspec": {
   "display_name": "Python 3 (ipykernel)",
   "language": "python",
   "name": "python3"
  },
  "language_info": {
   "codemirror_mode": {
    "name": "ipython",
    "version": 3
   },
   "file_extension": ".py",
   "mimetype": "text/x-python",
   "name": "python",
   "nbconvert_exporter": "python",
   "pygments_lexer": "ipython3",
   "version": "3.8.12"
  }
 },
 "nbformat": 4,
 "nbformat_minor": 5
}
